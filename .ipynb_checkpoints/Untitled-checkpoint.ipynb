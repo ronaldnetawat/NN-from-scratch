{
 "cells": [
  {
   "cell_type": "code",
   "execution_count": 23,
   "id": "954cbd1d-56da-4c3c-a39a-bfe41835f853",
   "metadata": {},
   "outputs": [],
   "source": [
    "from dense_layer import DenseLayer\n",
    "from activation_functions import Tanh\n",
    "from loss_functions import mse, d_mse\n",
    "import numpy as np"
   ]
  },
  {
   "cell_type": "code",
   "execution_count": 25,
   "id": "2637d98b-444a-4f22-afef-713d05218ee0",
   "metadata": {},
   "outputs": [],
   "source": [
    "import tensorflow as tf\n",
    "from tensorflow import keras"
   ]
  },
  {
   "cell_type": "code",
   "execution_count": 27,
   "id": "9e117fce-b610-4e1e-93fc-e5df76ba134b",
   "metadata": {},
   "outputs": [],
   "source": [
    "from tensorflow.keras.datasets import mnist"
   ]
  },
  {
   "cell_type": "code",
   "execution_count": 29,
   "id": "01ea1808-0f1a-4b7b-90b5-32dd8b572265",
   "metadata": {},
   "outputs": [],
   "source": [
    "(train_images, train_labels), (test_images, test_labels) = mnist.load_data()"
   ]
  },
  {
   "cell_type": "code",
   "execution_count": 31,
   "id": "43972969-9f7a-4b70-8efb-7070643d89bf",
   "metadata": {},
   "outputs": [
    {
     "data": {
      "text/plain": [
       "(60000, 28, 28)"
      ]
     },
     "execution_count": 31,
     "metadata": {},
     "output_type": "execute_result"
    }
   ],
   "source": [
    "train_images.shape"
   ]
  },
  {
   "cell_type": "code",
   "execution_count": 33,
   "id": "1c0c35ea-8755-4534-b845-b924f43501bd",
   "metadata": {},
   "outputs": [
    {
     "ename": "NameError",
     "evalue": "name 'ReLU' is not defined",
     "output_type": "error",
     "traceback": [
      "\u001b[0;31m---------------------------------------------------------------------------\u001b[0m",
      "\u001b[0;31mNameError\u001b[0m                                 Traceback (most recent call last)",
      "Cell \u001b[0;32mIn[33], line 2\u001b[0m\n\u001b[1;32m      1\u001b[0m model \u001b[38;5;241m=\u001b[39m [\n\u001b[0;32m----> 2\u001b[0m     DenseLayer(\u001b[38;5;241m784\u001b[39m, \u001b[38;5;241m512\u001b[39m), ReLU(),\n\u001b[1;32m      3\u001b[0m     DenseLayer(\u001b[38;5;241m512\u001b[39m, \u001b[38;5;241m10\u001b[39m), Softmax()\n\u001b[1;32m      4\u001b[0m ]\n",
      "\u001b[0;31mNameError\u001b[0m: name 'ReLU' is not defined"
     ]
    }
   ],
   "source": [
    "model = [\n",
    "    DenseLayer(784, 512), ReLU(),\n",
    "    DenseLayer(512, 10), Softmax()\n",
    "]"
   ]
  },
  {
   "cell_type": "code",
   "execution_count": null,
   "id": "21a3cea6-8b76-4347-80d3-550400774ae2",
   "metadata": {},
   "outputs": [],
   "source": []
  }
 ],
 "metadata": {
  "kernelspec": {
   "display_name": "Python 3 (ipykernel)",
   "language": "python",
   "name": "python3"
  },
  "language_info": {
   "codemirror_mode": {
    "name": "ipython",
    "version": 3
   },
   "file_extension": ".py",
   "mimetype": "text/x-python",
   "name": "python",
   "nbconvert_exporter": "python",
   "pygments_lexer": "ipython3",
   "version": "3.12.7"
  }
 },
 "nbformat": 4,
 "nbformat_minor": 5
}
